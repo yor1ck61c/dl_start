{
 "cells": [
  {
   "cell_type": "markdown",
   "metadata": {},
   "source": [
    "用神经网络思想实现Logistic回归\n",
    "欢迎来到你的第一个编程作业！ 你将学习如何建立逻辑回归分类器用来识别猫。 这项作业将引导你逐步了解神经网络的思维方式，同时磨练你对深度学习的直觉。\n",
    "\n",
    "说明：\n",
    "除非指令中明确要求使用，否则请勿在代码中使用循环（for / while）。\n",
    "\n",
    "你将学习以下内容：\n",
    "\n",
    "建立学习算法的一般架构，包括：\n",
    "初始化参数\n",
    "计算损失函数及其梯度\n",
    "使用优化算法（梯度下降）\n",
    "按正确的顺序将以上所有三个功能集成到一个主模型上。"
   ]
  },
  {
   "cell_type": "code",
   "execution_count": null,
   "metadata": {},
   "outputs": [],
   "source": [
    "import numpy as np\n",
    "import matplotlib.pyplot as plt\n",
    "import h5py\n",
    "import scipy\n",
    "from PIL import Image\n",
    "from scipy import ndimage\n",
    "from lr_utils import load_dataset\n",
    "\n",
    "%matplotlib inline"
   ]
  }
 ],
 "metadata": {
  "language_info": {
   "name": "python"
  },
  "orig_nbformat": 4
 },
 "nbformat": 4,
 "nbformat_minor": 2
}
